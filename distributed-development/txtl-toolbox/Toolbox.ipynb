{
 "cells": [
  {
   "cell_type": "code",
   "execution_count": 163,
   "metadata": {},
   "outputs": [],
   "source": [
    "import numpy as np\n",
    "import pandas as pd\n",
    "import matplotlib.pyplot as plt\n",
    "import seaborn as sns\n",
    "\n",
    "from Bio import Seq, SeqIO, SeqRecord, Alphabet\n",
    "from Bio.SeqFeature import SeqFeature, FeatureLocation, BeforePosition"
   ]
  },
  {
   "cell_type": "code",
   "execution_count": 164,
   "metadata": {},
   "outputs": [],
   "source": [
    "with open('./cds.fasta') as f:\n",
    "    cds = list(SeqIO.parse(f, format='fasta', alphabet=Alphabet.generic_dna))\n",
    "    \n",
    "with open('./regulatory.fasta') as f:\n",
    "    regulatory = list(SeqIO.parse(f, format='fasta', alphabet=Alphabet.generic_dna))\n",
    "    \n",
    "with open('./other-reporters.gb') as f:\n",
    "    reporters = list(SeqIO.parse(f, format='genbank'))"
   ]
  },
  {
   "cell_type": "code",
   "execution_count": 165,
   "metadata": {},
   "outputs": [
    {
     "data": {
      "text/plain": [
       "[SeqRecord(seq=Seq('ATGTCTTATTCAAAGCATGGCATCGTACAAGAAATGAAGACGAAATACCATATG...TAA', IUPACAmbiguousDNA()), id='amilGFP_(yellow)', name='amilGFP_(yellow)', description='', dbxrefs=[]),\n",
       " SeqRecord(seq=Seq('ATGGCTTCACTGGTTAAAAAAGACATGTGCATCAAAATGACGATGGAAGGAACA...TAA', IUPACAmbiguousDNA()), id='aeBlue', name='aeBlue', description='', dbxrefs=[]),\n",
       " SeqRecord(seq=Seq('ATGGCTTCCAAAATAAGCGACAACGTACGTATCAAACTGTATATGGAGGGCACG...TAA', IUPACAmbiguousDNA()), id='cjBlue', name='cjBlue', description='', dbxrefs=[]),\n",
       " SeqRecord(seq=Seq('ATGTCGGTAATCAAGCAAGTGATGAAAACTAAGCTTCATCTTGAAGGTACCGTT...TAA', IUPACAmbiguousDNA()), id='eforRed_(pink)', name='eforRed_(pink)', description='', dbxrefs=[]),\n",
       " SeqRecord(seq=Seq('ATGGCTTCCTCCGAAGACGTTATCAAAGAGTTCATGCGTTTCAAAGTTCGTATG...TAA', IUPACAmbiguousDNA()), id='RFP_(red)', name='RFP_(red)', description='', dbxrefs=[]),\n",
       " SeqRecord(seq=Seq('ATGGCGAGCTTCCTGAAAAAGACGATGCCGTTCAAAACCACGATTGAAGGCACG...TAA', IUPACAmbiguousDNA()), id='asPink', name='asPink', description='', dbxrefs=[]),\n",
       " SeqRecord(seq=Seq('ATGTCGCACTCAAAACAAGCACTGGCAGATACGATGAAAATGACGTGGCTGATG...TAA', IUPACAmbiguousDNA()), id='spisPink', name='spisPink', description='', dbxrefs=[]),\n",
       " SeqRecord(seq=Seq('ATGTCGGTGATTGCTAAACAGATGACCTACAAAGTCTATATGTCGGGTACGGTG...TAA', IUPACAmbiguousDNA()), id='gfasPurple', name='gfasPurple', description='', dbxrefs=[]),\n",
       " SeqRecord(seq=Seq('ATGTCCGTTATCGCAACCCAGATGACGTACAAAGTTTATATGTCGGGCACCGTG...TAA', IUPACAmbiguousDNA()), id='meffBlue', name='meffBlue', description='', dbxrefs=[]),\n",
       " SeqRecord(seq=Seq('ATGGCACTGAGCAACAAGTTTATCGGTGATGATATGAAAATGACGTACCACATG...TAA', IUPACAmbiguousDNA()), id='amajLime', name='amajLime', description='', dbxrefs=[]),\n",
       " SeqRecord(seq=Seq('ATGGCGAGCTTGGTTAAGAAAGATATGTGTGTTAAGATGACGATGGAAGGTACT...TAA', IUPACAmbiguousDNA()), id='tsPurple', name='tsPurple', description='', dbxrefs=[]),\n",
       " SeqRecord(seq=Seq('ATGTCCCTGTCGAAACAAGTACTGCCACGTGATGTTCGCATGCGCTTTCATATG...TAA', IUPACAmbiguousDNA()), id='TannenRFP', name='TannenRFP', description='', dbxrefs=[]),\n",
       " SeqRecord(seq=Seq('ATGACGGCATTGACGGAAGGTGCAAAACTGTTTGAGAAAGAGATCCCGTATATC...TAA', IUPACAmbiguousDNA()), id='BlazeYFP', name='BlazeYFP', description='', dbxrefs=[]),\n",
       " SeqRecord(seq=Seq('ATGAGTGTGATCGCTAAACAAATGACCTACAAGGTTTATATGTCAGGCACGGTC...TAA', IUPACAmbiguousDNA()), id='amilCP_(blue)', name='amilCP_(blue)', description='', dbxrefs=[]),\n",
       " SeqRecord(seq=Seq('ATGTCGTCTGGTGCACTGTTGTTTCATGGTAAAATCCCGTATGTTGTAGAAATG...TAA', IUPACAmbiguousDNA()), id='JuniperGFP', name='JuniperGFP', description='', dbxrefs=[]),\n",
       " SeqRecord(seq=Seq('ATGTCGTCTGGTACCAAATTGTTTGAAAAGGAAATCCCGTATATCACTGAACTG...TAA', IUPACAmbiguousDNA()), id='EiraCFP', name='EiraCFP', description='', dbxrefs=[])]"
      ]
     },
     "execution_count": 165,
     "metadata": {},
     "output_type": "execute_result"
    }
   ],
   "source": [
    "reporters"
   ]
  },
  {
   "cell_type": "code",
   "execution_count": 166,
   "metadata": {},
   "outputs": [],
   "source": [
    "for part in cds:\n",
    "    part.features.append(SeqFeature(FeatureLocation(0,len(part)), type=\"CDS\", qualifiers={'label': part.name, 'gene': part.name}))\n",
    "    \n",
    "for part in regulatory:\n",
    "    r = \"regulatory\"\n",
    "    c = \"misc_signal\"\n",
    "    if part.name[0] == 'P':\n",
    "        c = \"promoter\"\n",
    "    elif part.name[0] == 'U':\n",
    "        r = \"5'UTR\"\n",
    "        c = 'UTR'\n",
    "    elif part.name[0] == \"T\":\n",
    "        c = 'terminator'\n",
    "    \n",
    "    feat = SeqFeature(FeatureLocation(0,len(part)), type=r, qualifiers={'standard_name': part.name, 'label': part.name})\n",
    "    if r == 'regulatory': feat.qualifiers['regulatory_class'] = c\n",
    "    part.features.append(feat)"
   ]
  },
  {
   "cell_type": "code",
   "execution_count": 167,
   "metadata": {},
   "outputs": [],
   "source": [
    "moclo = {\n",
    "    'X': 'GGAG',\n",
    "    'i0': 'TACT',\n",
    "    'i1': 'A', # We expect an ATG after this\n",
    "    'i2': 'GCTT',\n",
    "    'Y': 'CGCT'\n",
    "}\n",
    "\n",
    "for name, seq in moclo.items():\n",
    "    seqr = SeqRecord.SeqRecord(Seq.Seq(seq, alphabet=Alphabet.generic_dna), id=name, name=name)\n",
    "    seqr.features.append(SeqFeature(FeatureLocation(0, BeforePosition(4)), type=\"misc_feature\", qualifiers={'function': 'MoClo Adapter', 'standard_name': name}))\n",
    "    moclo[name] = seqr\n",
    "    \n",
    "bsaI_forward = SeqRecord.SeqRecord(Seq.Seq('GGTCTCA', alphabet=Alphabet.generic_dna))\n",
    "bsaI_forward.features.append(SeqFeature(FeatureLocation(0, len(bsaI_forward)), type=\"misc_feature\", qualifiers={'function': 'MoClo RE Site', 'standard_name': 'BsaI'}))"
   ]
  },
  {
   "cell_type": "code",
   "execution_count": 168,
   "metadata": {},
   "outputs": [],
   "source": [
    "parts = []\n",
    "\n",
    "for part in regulatory + cds + reporters:\n",
    "    if part.features[0].type.upper() == 'CDS':\n",
    "        part_fragment = bsaI_forward + moclo['i1'] + part + moclo['i2'] + bsaI_forward.reverse_complement()\n",
    "        part_fragment\n",
    "    elif part.name[0] == 'P': # promoter\n",
    "        part_fragment = bsaI_forward + moclo['X'] + part + moclo['i0'] + bsaI_forward.reverse_complement()\n",
    "    elif part.name[0] == 'T': # terminator\n",
    "        part_fragment = bsaI_forward + moclo['i2'] + part + moclo['Y'] + bsaI_forward.reverse_complement()\n",
    "    elif part.name[0:3] == 'UTR': # utr\n",
    "        part_fragment = bsaI_forward + moclo['i0'] + part + moclo['i1'] + bsaI_forward.reverse_complement()\n",
    "        \n",
    "    part_fragment.id = part.id\n",
    "    part_fragment.name = part.name\n",
    "    part_fragment.description = \"MoClo assembly fragment for part {}\".format(part.name)\n",
    "    parts.append(part_fragment)"
   ]
  },
  {
   "cell_type": "code",
   "execution_count": 169,
   "metadata": {},
   "outputs": [
    {
     "data": {
      "text/plain": [
       "60"
      ]
     },
     "execution_count": 169,
     "metadata": {},
     "output_type": "execute_result"
    }
   ],
   "source": [
    "SeqIO.write(parts, \"parts.gb\", \"genbank\")"
   ]
  },
  {
   "cell_type": "code",
   "execution_count": null,
   "metadata": {},
   "outputs": [],
   "source": []
  }
 ],
 "metadata": {
  "kernelspec": {
   "display_name": "Python 3",
   "language": "python",
   "name": "python3"
  },
  "language_info": {
   "codemirror_mode": {
    "name": "ipython",
    "version": 3
   },
   "file_extension": ".py",
   "mimetype": "text/x-python",
   "name": "python",
   "nbconvert_exporter": "python",
   "pygments_lexer": "ipython3",
   "version": "3.6.3"
  }
 },
 "nbformat": 4,
 "nbformat_minor": 2
}
