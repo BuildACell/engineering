{
 "cells": [
  {
   "cell_type": "code",
   "execution_count": 12,
   "metadata": {
    "collapsed": false
   },
   "outputs": [
    {
     "data": {
      "image/png": "[encoded data removed]",
      "text/plain": [
       "<matplotlib.figure.Figure at 0x11158ac50>"
      ]
     },
     "metadata": {},
     "output_type": "display_data"
    }
   ],
   "source": [
    "\"\"\"\n",
    "Displays a NetworkX lollipop graph to screen using a MatrixPlot.\n",
    "\"\"\"\n",
    "\n",
    "from nxviz.plots import MatrixPlot\n",
    "import numpy.random as npr\n",
    "import networkx as nx\n",
    "import matplotlib.pyplot as plt\n",
    "\n",
    "G = nx.lollipop_graph(m=10, n=4)\n",
    "for n, d in G.nodes(data=True):\n",
    "    G.node[n]['value'] = npr.normal()\n",
    "c = MatrixPlot(G, node_color='value', node_order='value')\n",
    "c.draw()\n",
    "plt.show()"
   ]
  },
  {
   "cell_type": "code",
   "execution_count": 7,
   "metadata": {
    "collapsed": false
   },
   "outputs": [
    {
     "name": "stdout",
     "output_type": "stream",
     "text": [
      "  (0, 1)\t1\n",
      "  (0, 2)\t1\n",
      "  (0, 3)\t1\n",
      "  (0, 4)\t1\n",
      "  (0, 5)\t1\n",
      "  (0, 6)\t1\n",
      "  (0, 7)\t1\n",
      "  (0, 8)\t1\n",
      "  (0, 9)\t1\n",
      "  (1, 0)\t1\n",
      "  (1, 2)\t1\n",
      "  (1, 3)\t1\n",
      "  (1, 4)\t1\n",
      "  (1, 5)\t1\n",
      "  (1, 6)\t1\n",
      "  (1, 7)\t1\n",
      "  (1, 8)\t1\n",
      "  (1, 9)\t1\n",
      "  (2, 0)\t1\n",
      "  (2, 1)\t1\n",
      "  (2, 3)\t1\n",
      "  (2, 4)\t1\n",
      "  (2, 5)\t1\n",
      "  (2, 6)\t1\n",
      "  (2, 7)\t1\n",
      "  :\t:\n",
      "  (8, 1)\t1\n",
      "  (8, 2)\t1\n",
      "  (8, 3)\t1\n",
      "  (8, 4)\t1\n",
      "  (8, 5)\t1\n",
      "  (8, 6)\t1\n",
      "  (8, 7)\t1\n",
      "  (8, 9)\t1\n",
      "  (9, 0)\t1\n",
      "  (9, 1)\t1\n",
      "  (9, 2)\t1\n",
      "  (9, 3)\t1\n",
      "  (9, 4)\t1\n",
      "  (9, 5)\t1\n",
      "  (9, 6)\t1\n",
      "  (9, 7)\t1\n",
      "  (9, 8)\t1\n",
      "  (9, 10)\t1\n",
      "  (10, 9)\t1\n",
      "  (10, 11)\t1\n",
      "  (11, 10)\t1\n",
      "  (11, 12)\t1\n",
      "  (12, 11)\t1\n",
      "  (12, 13)\t1\n",
      "  (13, 12)\t1\n"
     ]
    }
   ],
   "source": [
    "print(nx.adj_matrix(G))"
   ]
  }
 ],
 "metadata": {
  "anaconda-cloud": {},
  "kernelspec": {
   "display_name": "Python [default]",
   "language": "python",
   "name": "python3"
  },
  "language_info": {
   "codemirror_mode": {
    "name": "ipython",
    "version": 3
   },
   "file_extension": ".py",
   "mimetype": "text/x-python",
   "name": "python",
   "nbconvert_exporter": "python",
   "pygments_lexer": "ipython3",
   "version": "3.5.2"
  }
 },
 "nbformat": 4,
 "nbformat_minor": 1
}
