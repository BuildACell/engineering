{
 "cells": [
  {
   "cell_type": "code",
   "execution_count": 18,
   "metadata": {
    "collapsed": false
   },
   "outputs": [
    {
     "data": {
      "text/plain": [
       "[<matplotlib.lines.Line2D at 0x1121c5e48>]"
      ]
     },
     "execution_count": 18,
     "metadata": {},
     "output_type": "execute_result"
    },
    {
     "data": {
      "image/png": "[encoded data removed]",
      "text/plain": [
       "<matplotlib.figure.Figure at 0x1121a1ac8>"
      ]
     },
     "metadata": {},
     "output_type": "display_data"
    }
   ],
   "source": [
    "%matplotlib inline \n",
    "import pandas as pd\n",
    "import numpy as np\n",
    "import matplotlib.pyplot as plt\n",
    "\n",
    "def avgCurves(*array): #averages the curves to get a curve to fit parameters to\n",
    "    size = 0\n",
    "    for item in array:\n",
    "        if len(item) > size:\n",
    "            size = len(item)\n",
    "    avgArray = []\n",
    "    summation = 0\n",
    "    for number in range(0, size):\n",
    "        for item in array:\n",
    "            summation += item[number]\n",
    "        avgArray.append(summation / len(array))\n",
    "        summation = 0\n",
    "    return avgArray\n",
    "def normalize(standardCurve, *array): #normalizes the data to a standard curve to compare model data to reality.\n",
    "    #Assumes fluorescence maps to molecule count linearly. To not make this assumption and use this technique, you need\n",
    "    #to find g(array)/g(standardCurve), where g is the function that maps fluorescence to molecule count. Then, normalize\n",
    "    #the model in this way and compare them.\n",
    "    size = 0\n",
    "    for item in array:\n",
    "        if len(item) > size:\n",
    "            size = len(item)\n",
    "    normArray = []\n",
    "    summation = 0\n",
    "    for item in range(0, len(array)):\n",
    "        normArray.append([])\n",
    "        for number in range(0, size):\n",
    "            standard = standardCurve[number]\n",
    "            raw = array[item][number]\n",
    "            normArray[item].append(raw / standard)\n",
    "    return normArray\n",
    "\n",
    "dat = pd.read_excel('mRFPspin_3replicates_DNAhl_201705.xls', sep=' ')\n",
    "dat.columns = list(range(0,161))\n",
    "\n",
    "HHa = dat.iloc[0:3] #High DNA conc, spinach (mRNA) - 5nM DNA\n",
    "LHa = dat.iloc[10:13] #Low DNA conc, spinach (mRNA) - 0.5 nM DNA\n",
    "\n",
    "HHa1 = HHa.iloc[0,:]*1.5\n",
    "HHa2 = HHa.iloc[1,:]\n",
    "HHa3 = HHa.iloc[2,:]\n",
    "avgH = avgCurves(HHa1, HHa2, HHa3)\n",
    "\n",
    "LHa1 = LHa.iloc[0,:]*1.1\n",
    "LHa2 = LHa.iloc[1,:]\n",
    "LHa3 = LHa.iloc[2,:]\n",
    "avgL = avgCurves(LHa1, LHa2, LHa3)\n",
    "\n",
    "norm = normalize(avgL, avgL, avgH)\n",
    "\n",
    "#Plot high DNA conc mSpinach\n",
    "#plt.plot(HHa1)\n",
    "#plt.plot(HHa2)\n",
    "#plt.plot(HHa3)\n",
    "#plt.plot(avgH)\n",
    "\n",
    "#Plot low DNA conc mSpinach\n",
    "#plt.plot(LHa1)\n",
    "#plt.plot(LHa2)\n",
    "#plt.plot(LHa3)\n",
    "#plt.plot(avgL)\n",
    "\n",
    "plt.plot(norm[1])"
   ]
  }
 ],
 "metadata": {
  "kernelspec": {
   "display_name": "Python 3",
   "language": "python",
   "name": "python3"
  },
  "language_info": {
   "codemirror_mode": {
    "name": "ipython",
    "version": 3
   },
   "file_extension": ".py",
   "mimetype": "text/x-python",
   "name": "python",
   "nbconvert_exporter": "python",
   "pygments_lexer": "ipython3",
   "version": "3.6.0"
  }
 },
 "nbformat": 4,
 "nbformat_minor": 2
}
