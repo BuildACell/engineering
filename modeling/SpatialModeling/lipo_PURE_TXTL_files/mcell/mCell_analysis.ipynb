{
 "cells": [
  {
   "cell_type": "code",
   "execution_count": 58,
   "metadata": {
    "collapsed": false
   },
   "outputs": [
    {
     "data": {
      "text/plain": [
       "array([  0.,   0.,   1.,   3.,   2.,   6.,   6.,   7.,   9.,  10.,  10.,\n",
       "         9.,  10.,  12.,  12.,  16.,  16.,  19.,  20.,  19.,  20.,  21.,\n",
       "        25.,  30.,  30.,  33.,  36.,  41.,  42.,  45.,  45.,  47.,  50.,\n",
       "        49.,  51.,  51.,  55.,  59.,  63.,  64.,  67.,  63.,  65.,  64.,\n",
       "        64.,  64.,  65.,  62.,  62.,  66.,  68.,  66.,  65.,  64.,  66.,\n",
       "        65.,  65.,  64.,  63.,  65.,  64.,  62.,  60.,  60.,  56.,  57.,\n",
       "        57.,  56.,  57.,  56.,  55.,  55.,  53.,  50.,  52.,  51.,  51.,\n",
       "        51.,  52.,  51.,  52.,  54.,  57.,  57.,  57.,  58.,  57.,  58.,\n",
       "        61.,  59.,  57.,  59.,  60.,  59.,  58.,  56.,  54.,  54.,  55.,\n",
       "        57.,  57.,  57.,  59.,  60.,  62.,  62.,  63.,  64.,  63.,  62.,\n",
       "        62.,  62.,  61.,  60.,  60.,  60.,  59.,  59.,  57.,  55.,  54.,\n",
       "        54.,  54.,  55.,  55.,  55.,  55.,  57.,  56.,  56.,  55.,  54.,\n",
       "        53.,  51.,  51.,  51.,  51.,  51.,  51.,  52.,  53.,  54.,  54.,\n",
       "        55.,  52.,  50.,  48.,  48.,  49.,  49.,  51.,  48.,  49.,  50.,\n",
       "        50.,  48.,  47.,  50.,  49.,  50.,  48.])"
      ]
     },
     "execution_count": 58,
     "metadata": {},
     "output_type": "execute_result"
    }
   ],
   "source": [
    "import numpy as np\n",
    "import matplotlib.pyplot as plt\n",
    "\n",
    "m_pos_file = 'output_data/react_data/seed_00001/m.World.dat'\n",
    "x_pos_file = 'output_data/react_data/seed_00001/x.World.dat'\n",
    "n_pos_file = 'output_data/react_data/seed_00001/n.World.dat'\n",
    "c1_pos_file = 'output_data/react_data/seed_00001/c1.World.dat'\n",
    "c2_pos_file = 'output_data/react_data/seed_00001/c2.World.dat'\n",
    "d_pos_file = 'output_data/react_data/seed_00001/d.World.dat'\n",
    "r_pos_file = 'output_data/react_data/seed_00001/r.World.dat'\n",
    "m = np.genfromtxt(m_pos_file)   \n",
    "x = np.genfromtxt(x_pos_file)   \n",
    "n = np.genfromtxt(n_pos_file) \n",
    "c1 = np.genfromtxt(c1_pos_file) \n",
    "c2 = np.genfromtxt(c2_pos_file) \n",
    "d = np.genfromtxt(d_pos_file)\n",
    "r = np.genfromtxt(r_pos_file)\n",
    "m[:,1]"
   ]
  },
  {
   "cell_type": "code",
   "execution_count": 56,
   "metadata": {
    "collapsed": false
   },
   "outputs": [
    {
     "data": {
      "image/png": "[encoded data removed]",
      "text/plain": [
       "<matplotlib.figure.Figure at 0x109304b50>"
      ]
     },
     "metadata": {},
     "output_type": "display_data"
    }
   ],
   "source": [
    "#plt.plot(m[:,1])\n",
    "plt.plot(m[:,1])\n",
    "plt.plot([:,1])\n",
    "plt.show()"
   ]
  },
  {
   "cell_type": "code",
   "execution_count": 57,
   "metadata": {
    "collapsed": false
   },
   "outputs": [
    {
     "ename": "NameError",
     "evalue": "name 'data' is not defined",
     "output_type": "error",
     "traceback": [
      "\u001b[0;31m---------------------------------------------------------------------------\u001b[0m",
      "\u001b[0;31mNameError\u001b[0m                                 Traceback (most recent call last)",
      "\u001b[0;32m<ipython-input-57-00c28a35fb22>\u001b[0m in \u001b[0;36m<module>\u001b[0;34m()\u001b[0m\n\u001b[0;32m----> 1\u001b[0;31m \u001b[0mdata\u001b[0m \u001b[0;34m=\u001b[0m \u001b[0mdata\u001b[0m\u001b[0;34m[\u001b[0m\u001b[0;34m:\u001b[0m\u001b[0;34m,\u001b[0m \u001b[0;36m1\u001b[0m\u001b[0;34m]\u001b[0m                    \u001b[0;31m# create array from 1st column (X pos)\u001b[0m\u001b[0;34m\u001b[0m\u001b[0m\n\u001b[0m\u001b[1;32m      2\u001b[0m \u001b[0;32mprint\u001b[0m\u001b[0;34m(\u001b[0m\u001b[0;34m'The min is: %.3f'\u001b[0m \u001b[0;34m%\u001b[0m \u001b[0mnp\u001b[0m\u001b[0;34m.\u001b[0m\u001b[0mmin\u001b[0m\u001b[0;34m(\u001b[0m\u001b[0mdata\u001b[0m\u001b[0;34m)\u001b[0m\u001b[0;34m)\u001b[0m\u001b[0;34m\u001b[0m\u001b[0m\n\u001b[1;32m      3\u001b[0m \u001b[0;32mprint\u001b[0m\u001b[0;34m(\u001b[0m\u001b[0;34m'The max is: %.3f'\u001b[0m \u001b[0;34m%\u001b[0m \u001b[0mnp\u001b[0m\u001b[0;34m.\u001b[0m\u001b[0mmax\u001b[0m\u001b[0;34m(\u001b[0m\u001b[0mdata\u001b[0m\u001b[0;34m)\u001b[0m\u001b[0;34m)\u001b[0m\u001b[0;34m\u001b[0m\u001b[0m\n\u001b[1;32m      4\u001b[0m \u001b[0;32mprint\u001b[0m\u001b[0;34m(\u001b[0m\u001b[0;34m'The mean is: %.3f'\u001b[0m \u001b[0;34m%\u001b[0m \u001b[0mnp\u001b[0m\u001b[0;34m.\u001b[0m\u001b[0mmean\u001b[0m\u001b[0;34m(\u001b[0m\u001b[0mdata\u001b[0m\u001b[0;34m)\u001b[0m\u001b[0;34m)\u001b[0m\u001b[0;34m\u001b[0m\u001b[0m\n\u001b[1;32m      5\u001b[0m \u001b[0;32mprint\u001b[0m\u001b[0;34m(\u001b[0m\u001b[0;34m'The standard deviation is: %.3f'\u001b[0m \u001b[0;34m%\u001b[0m \u001b[0mnp\u001b[0m\u001b[0;34m.\u001b[0m\u001b[0mstd\u001b[0m\u001b[0;34m(\u001b[0m\u001b[0mdata\u001b[0m\u001b[0;34m)\u001b[0m\u001b[0;34m)\u001b[0m\u001b[0;34m\u001b[0m\u001b[0m\n",
      "\u001b[0;31mNameError\u001b[0m: name 'data' is not defined"
     ]
    }
   ],
   "source": [
    "data = data[:, 1]                    # create array from 1st column (X pos)\n",
    "print('The min is: %.3f' % np.min(data))\n",
    "print('The max is: %.3f' % np.max(data))\n",
    "print('The mean is: %.3f' % np.mean(data))\n",
    "print('The standard deviation is: %.3f' % np.std(data))\n",
    "plt.hist(data, 100)                  # create a histogram with 100 bins\n",
    "plt.xlabel('Distance (Microns)')     # add an x-axis label\n",
    "plt.ylabel('Molecules')              # add an y-axis label\n",
    "plt.show()                           # plot the data"
   ]
  },
  {
   "cell_type": "code",
   "execution_count": 14,
   "metadata": {
    "collapsed": false
   },
   "outputs": [
    {
     "name": "stdout",
     "output_type": "stream",
     "text": [
      "/Users/Akshay/Dropbox/Life/Research/Endy Lab/CellModeling/lipo_PURE_files/mcell/output_data\n"
     ]
    }
   ],
   "source": [
    "cd output_data"
   ]
  },
  {
   "cell_type": "code",
   "execution_count": null,
   "metadata": {
    "collapsed": false
   },
   "outputs": [],
   "source": []
  },
  {
   "cell_type": "code",
   "execution_count": null,
   "metadata": {
    "collapsed": true
   },
   "outputs": [],
   "source": []
  }
 ],
 "metadata": {
  "kernelspec": {
   "display_name": "Python 2",
   "language": "python",
   "name": "python2"
  },
  "language_info": {
   "codemirror_mode": {
    "name": "ipython",
    "version": 2
   },
   "file_extension": ".py",
   "mimetype": "text/x-python",
   "name": "python",
   "nbconvert_exporter": "python",
   "pygments_lexer": "ipython2",
   "version": "2.7.12"
  }
 },
 "nbformat": 4,
 "nbformat_minor": 2
}
