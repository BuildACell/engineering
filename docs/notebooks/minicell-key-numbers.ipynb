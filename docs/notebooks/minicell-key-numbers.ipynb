{
 "cells": [
  {
   "cell_type": "markdown",
   "metadata": {},
   "source": [
    "# Minicell Key Numbers\n",
    "\n",
    "This notebook details analysis of key numbers for the minicells we produce from *E. coli* DS140 using our minicell purification protocol."
   ]
  },
  {
   "cell_type": "code",
   "execution_count": 2,
   "metadata": {
    "collapsed": false,
    "slideshow": {
     "slide_type": "skip"
    }
   },
   "outputs": [
    {
     "name": "stderr",
     "output_type": "stream",
     "text": [
      "/Users/anton/anaconda/lib/python2.7/site-packages/pandas/computation/__init__.py:19: UserWarning: The installed version of numexpr 2.4.4 is not supported in pandas and will be not be used\n",
      "\n",
      "  UserWarning)\n"
     ]
    }
   ],
   "source": [
    "%matplotlib inline\n",
    "\n",
    "import numpy as np\n",
    "import pandas as pd\n",
    "import matplotlib.pyplot as plt\n",
    "import seaborn as sns\n",
    "import scipy.constants as c"
   ]
  },
  {
   "cell_type": "markdown",
   "metadata": {
    "slideshow": {
     "slide_type": "slide"
    }
   },
   "source": [
    "# Morphology"
   ]
  },
  {
   "cell_type": "markdown",
   "metadata": {
    "slideshow": {
     "slide_type": "skip"
    }
   },
   "source": [
    "From Adler, et al:\n",
    "* 10% volume of *E. coli*\n",
    "* 1 cfu per 10^3—10^4 minicells (1e-3 to 1e-4 purity)"
   ]
  },
  {
   "cell_type": "markdown",
   "metadata": {
    "slideshow": {
     "slide_type": "slide"
    }
   },
   "source": [
    "## Diameter \n",
    "\n",
    "* *Adler et al* (1966): \"Approximately 1/10 the volume\". \n",
    "* *Jaffe et at* (1988): 0.1–1.2 µm, concentrated at 0.3–0.4 µm.\n",
    "* *Frazer and Curtiss* (1975): 0.7 µm diameter.\n",
    "* *Farley et al* (2016): 0.3–0.4 µm (n = 2, from figures). One sample is from a 'skinny' MreB knockout."
   ]
  },
  {
   "cell_type": "markdown",
   "metadata": {
    "slideshow": {
     "slide_type": "subslide"
    }
   },
   "source": [
    "![Jaffe1988](Reference/Jaffe 1988 Fig 2.png)\n",
    "*Jaffe et al (1988) Figure 2*"
   ]
  },
  {
   "cell_type": "code",
   "execution_count": 51,
   "metadata": {
    "collapsed": false,
    "slideshow": {
     "slide_type": "skip"
    }
   },
   "outputs": [
    {
     "name": "stdout",
     "output_type": "stream",
     "text": [
      "Minicell width 1E: 410\n",
      "Minicell width 3G: 302\n"
     ]
    }
   ],
   "source": [
    "# Farley\n",
    "# Figure 1(e)\n",
    "print \"Minicell width 1E:\", 205 * (200/90)\n",
    "\n",
    "# Figure 3(g)\n",
    "print \"Minicell width 3G:\", 302 * (100/68)"
   ]
  },
  {
   "cell_type": "markdown",
   "metadata": {
    "slideshow": {
     "slide_type": "subslide"
    }
   },
   "source": [
    "## Empirical size"
   ]
  },
  {
   "cell_type": "code",
   "execution_count": 17,
   "metadata": {
    "collapsed": false,
    "slideshow": {
     "slide_type": "skip"
    }
   },
   "outputs": [],
   "source": [
    "lengths = pd.read_table(\"./Data/Other Induction/Sizes.tab\")\n",
    "ecoli_lengths = pd.read_table(\"./Data/Other Induction/Sizes.tab\")[:18]\n",
    "minicell_dia = pd.read_table(\"./Data/Other Induction/Sizes.tab\")[18:]\n",
    "\n",
    "lengths['Type'] = \"Ecoli\"\n",
    "lengths.ix[18:,'Type'] = \"Minicell\""
   ]
  },
  {
   "cell_type": "code",
   "execution_count": 18,
   "metadata": {
    "collapsed": false,
    "slideshow": {
     "slide_type": "skip"
    }
   },
   "outputs": [
    {
     "data": {
      "text/plain": [
       "<matplotlib.axes._subplots.AxesSubplot at 0x10953f390>"
      ]
     },
     "execution_count": 18,
     "metadata": {},
     "output_type": "execute_result"
    },
    {
     "data": {
      "image/png": "[encoded data removed]",
      "text/plain": [
       "<matplotlib.figure.Figure at 0x108e54390>"
      ]
     },
     "metadata": {},
     "output_type": "display_data"
    }
   ],
   "source": [
    "sns.boxplot(x=\"Type\", y=\"Area\", hue=\"Type\", data=lengths)"
   ]
  },
  {
   "cell_type": "code",
   "execution_count": 21,
   "metadata": {
    "collapsed": false,
    "hideCode": true,
    "slideshow": {
     "slide_type": "fragment"
    }
   },
   "outputs": [
    {
     "data": {
      "image/png": "[encoded data removed]",
      "text/plain": [
       "<matplotlib.figure.Figure at 0x10a80ac90>"
      ]
     },
     "metadata": {},
     "output_type": "display_data"
    }
   ],
   "source": [
    "ecoli_length = 2 # µm\n",
    "\n",
    "conv = ecoli_lengths['Area'].mean() / ecoli_length # px/µm\n",
    "\n",
    "sns.boxplot(minicell_dia['Area'] / conv)\n",
    "plt.xlabel(\"Length ($\\mu m$)\")\n",
    "\n",
    "minicell_mean_dia_norm = (minicell_dia['Area'] / conv).mean()"
   ]
  },
  {
   "cell_type": "markdown",
   "metadata": {},
   "source": [
    "Based on 16 px/µm from EW's calculations:"
   ]
  },
  {
   "cell_type": "code",
   "execution_count": 20,
   "metadata": {
    "collapsed": false
   },
   "outputs": [
    {
     "data": {
      "image/png": "[encoded data removed]",
      "text/plain": [
       "<matplotlib.figure.Figure at 0x1099ed690>"
      ]
     },
     "metadata": {},
     "output_type": "display_data"
    }
   ],
   "source": [
    "microscope_conv = 16 # px/µm\n",
    "sns.boxplot(minicell_dia['Area'] / microscope_conv)\n",
    "plt.xlabel(\"Length ($\\mu m$)\")\n",
    "\n",
    "minicell_mean_dia_calc = (minicell_dia['Area'] / microscope_conv).mean()"
   ]
  },
  {
   "cell_type": "code",
   "execution_count": 23,
   "metadata": {
    "collapsed": false
   },
   "outputs": [
    {
     "name": "stdout",
     "output_type": "stream",
     "text": [
      "Minicell mean diameter (ecoli norm): 0.32 µm\n",
      "Minicell mean diameter (calculated): 0.42 µm\n"
     ]
    }
   ],
   "source": [
    "print \"Minicell mean diameter (ecoli norm): {:.2f} µm\".format(minicell_mean_dia_norm)\n",
    "print \"Minicell mean diameter (calculated): {:.2f} µm\".format(minicell_mean_dia_calc)"
   ]
  },
  {
   "cell_type": "code",
   "execution_count": 24,
   "metadata": {
    "collapsed": true
   },
   "outputs": [],
   "source": [
    "minicell_size_range = np.array([0.1, 0.42, 0.8])"
   ]
  },
  {
   "cell_type": "markdown",
   "metadata": {
    "slideshow": {
     "slide_type": "slide"
    }
   },
   "source": [
    "## Volume\n",
    "\n",
    "By spherical volume:\n",
    "\n",
    "    Dia: 0.20 0.32 0.40 0.70 µm\n",
    "    Vol: 0.00 0.02 0.03 0.18 µm^3\n",
    "     SA: 0.13 0.32 0.50 1.54 µm^2"
   ]
  },
  {
   "cell_type": "code",
   "execution_count": 27,
   "metadata": {
    "collapsed": false,
    "slideshow": {
     "slide_type": "skip"
    }
   },
   "outputs": [
    {
     "name": "stdout",
     "output_type": "stream",
     "text": [
      "Dia: 0.10 0.42 0.80 µm\n",
      "Vol: 0.00 0.04 0.27 µm^3\n",
      " SA: 0.03 0.55 2.01 µm^2\n"
     ]
    }
   ],
   "source": [
    "volume = 4. / 3 * np.pi * (minicell_size_range / 2.)**3\n",
    "sa = 4. * np.pi * (minicell_size_range / 2.)**2\n",
    "\n",
    "print \"Dia: {:.2f} {:.2f} {:.2f} µm\".format(*minicell_size_range)\n",
    "print \"Vol: {:.2f} {:.2f} {:.2f} µm^3\".format(*volume)\n",
    "print \" SA: {:.2f} {:.2f} {:.2f} µm^2\".format(*sa)"
   ]
  },
  {
   "cell_type": "code",
   "execution_count": 43,
   "metadata": {
    "collapsed": false
   },
   "outputs": [
    {
     "data": {
      "text/html": [
       "<div>\n",
       "<table border=\"1\" class=\"dataframe\">\n",
       "  <thead>\n",
       "    <tr style=\"text-align: right;\">\n",
       "      <th></th>\n",
       "      <th>Attribute</th>\n",
       "      <th>Low</th>\n",
       "      <th>Best</th>\n",
       "      <th>High</th>\n",
       "      <th>Unit</th>\n",
       "      <th>Notes</th>\n",
       "    </tr>\n",
       "  </thead>\n",
       "  <tbody>\n",
       "    <tr>\n",
       "      <th>0</th>\n",
       "      <td>Diameter</td>\n",
       "      <td>0.100000</td>\n",
       "      <td>0.420000</td>\n",
       "      <td>0.800000</td>\n",
       "      <td>µm</td>\n",
       "      <td></td>\n",
       "    </tr>\n",
       "    <tr>\n",
       "      <th>1</th>\n",
       "      <td>Volume</td>\n",
       "      <td>0.000524</td>\n",
       "      <td>0.038792</td>\n",
       "      <td>0.268083</td>\n",
       "      <td>µm^3</td>\n",
       "      <td></td>\n",
       "    </tr>\n",
       "    <tr>\n",
       "      <th>2</th>\n",
       "      <td>Surface Area</td>\n",
       "      <td>0.031416</td>\n",
       "      <td>0.554177</td>\n",
       "      <td>2.010619</td>\n",
       "      <td>µm^2</td>\n",
       "      <td></td>\n",
       "    </tr>\n",
       "  </tbody>\n",
       "</table>\n",
       "</div>"
      ],
      "text/plain": [
       "      Attribute       Low      Best      High  Unit Notes\n",
       "0      Diameter  0.100000  0.420000  0.800000    µm      \n",
       "1        Volume  0.000524  0.038792  0.268083  µm^3      \n",
       "2  Surface Area  0.031416  0.554177  2.010619  µm^2      "
      ]
     },
     "execution_count": 43,
     "metadata": {},
     "output_type": "execute_result"
    }
   ],
   "source": [
    "table = pd.DataFrame(columns=['Attribute', 'Low', 'Best', 'High', 'Unit', 'Notes'])\n",
    "table['Attribute'] = 'Diameter', 'Volume', 'Surface Area'\n",
    "table['Low'] = [minicell_size_range[0], volume[0], sa[0]]\n",
    "table['Best'] = [minicell_size_range[1], volume[1], sa[1]]\n",
    "table['High'] = [minicell_size_range[2], volume[2], sa[2]]\n",
    "table['Unit'] = ['µm', 'µm^3', 'µm^2']\n",
    "table['Notes'] = ['','','']\n",
    "table"
   ]
  },
  {
   "cell_type": "code",
   "execution_count": 28,
   "metadata": {
    "collapsed": false,
    "slideshow": {
     "slide_type": "skip"
    }
   },
   "outputs": [
    {
     "data": {
      "text/plain": [
       "6.8108178559791455"
      ]
     },
     "execution_count": 28,
     "metadata": {},
     "output_type": "execute_result"
    }
   ],
   "source": [
    "# From Pratts and de Pedro (1989), BNID 105026\n",
    "ecoli_sa = pd.DataFrame({\"Volume\":[0.65, 0.66, 0.62], \"SA\":[4.42,4.42,4.3]})\n",
    "(ecoli_sa['SA'] / ecoli_sa['Volume']).mean()"
   ]
  },
  {
   "cell_type": "markdown",
   "metadata": {
    "slideshow": {
     "slide_type": "subslide"
    }
   },
   "source": [
    "By ratio to *E. coli*:\n",
    "* 0.1–3.5 µm^3 per *Loferer-Krössbacher et al* (1998); BNID 100003; by TEM and image analysis\n",
    "* 0.44–1.79 (~1.1) µm^3 per *Kubitschek and Friske* (1986); BNID 100004; by pelleting and Coulter counter\n",
    "\n",
    "so 0.01–0.35 µm^3."
   ]
  },
  {
   "cell_type": "markdown",
   "metadata": {},
   "source": [
    "Use 0.1 µm^3 for simplicity."
   ]
  },
  {
   "cell_type": "code",
   "execution_count": 4,
   "metadata": {
    "collapsed": true,
    "slideshow": {
     "slide_type": "skip"
    }
   },
   "outputs": [],
   "source": [
    "minicell_vol = 0.1"
   ]
  },
  {
   "cell_type": "markdown",
   "metadata": {
    "slideshow": {
     "slide_type": "slide"
    }
   },
   "source": [
    "# Atoms"
   ]
  },
  {
   "cell_type": "markdown",
   "metadata": {
    "slideshow": {
     "slide_type": "subslide"
    }
   },
   "source": [
    "## *E. coli*"
   ]
  },
  {
   "cell_type": "markdown",
   "metadata": {},
   "source": [
    "* Elemental composition of an *E. coli* cell is C4:H7:O2:N1 = 101.104 g/mol. \n",
    "* Derived estimate of the number of carbons is 10^10 (BNID 103010): approx 2 x 10^10 atoms overall.\n",
    "* *E. coli* surface area is ~4.42 µm^2."
   ]
  },
  {
   "cell_type": "markdown",
   "metadata": {
    "slideshow": {
     "slide_type": "subslide"
    }
   },
   "source": [
    "## Minicell"
   ]
  },
  {
   "cell_type": "markdown",
   "metadata": {},
   "source": [
    "Three approaches:\n",
    "* Van der Waals radius\n",
    "* Covalent radius\n",
    "* Composition-based"
   ]
  },
  {
   "cell_type": "code",
   "execution_count": 46,
   "metadata": {
    "collapsed": false,
    "slideshow": {
     "slide_type": "subslide"
    }
   },
   "outputs": [
    {
     "name": "stdout",
     "output_type": "stream",
     "text": [
      "Van der Waals atoms: 2.4e+09\n"
     ]
    }
   ],
   "source": [
    "def vol(x):\n",
    "    # Multiply by 1e-6 to get units of µm^3\n",
    "    return 4. / 3. * np.pi * (x * 1e-6)**3\n",
    "\n",
    "carbon_vanderwaals = 170 # pm\n",
    "hydrogen_vanderwaals = 120 # pm\n",
    "oxygen_vanderwaals = 152 # pm\n",
    "nitrogen_vanderwaals = 155 # pm\n",
    "\n",
    "vanderwaals_atoms = (minicell_vol * 0.3) / ((\n",
    "    vol(carbon_vanderwaals) * 4 + \n",
    "    vol(hydrogen_vanderwaals) * 7 + \n",
    "    vol(oxygen_vanderwaals) * 2 + \n",
    "    vol(nitrogen_vanderwaals) )) * 14\n",
    "\n",
    "print \"Van der Waals atoms: {:.2g}\".format(vanderwaals_atoms)"
   ]
  },
  {
   "cell_type": "code",
   "execution_count": 47,
   "metadata": {
    "collapsed": false,
    "slideshow": {
     "slide_type": "subslide"
    }
   },
   "outputs": [
    {
     "name": "stdout",
     "output_type": "stream",
     "text": [
      "Covalent atoms: 4.1e+10\n"
     ]
    }
   ],
   "source": [
    "carbon_covalent = 69\n",
    "hydrogen_covalent = 31\n",
    "oxygen_covalent = 66\n",
    "nitrogen_covalent = 71\n",
    "phosphorus_covalent = 107\n",
    "\n",
    "covalent = (minicell_vol * 0.3) / (\n",
    "    vol(carbon_covalent) * 4 + \n",
    "    vol(hydrogen_covalent) * 7 + \n",
    "    vol(oxygen_covalent) * 2 + \n",
    "    vol(nitrogen_covalent)) * 14\n",
    "print \"Covalent atoms: {:.2g}\".format(covalent)"
   ]
  },
  {
   "cell_type": "code",
   "execution_count": 67,
   "metadata": {
    "collapsed": false,
    "slideshow": {
     "slide_type": "subslide"
    }
   },
   "outputs": [
    {
     "name": "stdout",
     "output_type": "stream",
     "text": [
      "Composition atoms: 6.5e+07\n",
      "Carbon: 1.8e+07\n",
      "Hydrogen: 3.2e+07\n",
      "Oxygen: 9.2e+06\n",
      "Nitrogen: 4.6e+06\n"
     ]
    }
   ],
   "source": [
    "neidhardt = pd.read_csv(\"Reference/Neidhardt1996.csv\")\n",
    "\n",
    "ecoli_dry_weight = 2.8e-13 # g; Neidhardt 1996 Table 1 footnote c\n",
    "ecoli_composition_mol_mass = 101.104\n",
    "\n",
    "# Assume E. coli volume is ~1µm^3 and weight scales with volume\n",
    "# Use best guess for volume\n",
    "minicell_composition_atoms = ecoli_dry_weight / (1 / volume[1]) * c.N_A / ecoli_composition_mol_mass\n",
    "minicell_composition_carbon = minicell_composition_atoms / 14. * 4\n",
    "minicell_composition_hydrogen = minicell_composition_atoms / 14. * 7\n",
    "minicell_composition_oxygen = minicell_composition_atoms / 14. * 2\n",
    "minicell_composition_nitrogen = minicell_composition_atoms / 14.\n",
    "\n",
    "print \"Composition atoms: {:.2g}\".format(minicell_composition_atoms)\n",
    "print \"Carbon: {:.2g}\".format(minicell_composition_carbon)\n",
    "print \"Hydrogen: {:.2g}\".format(minicell_composition_hydrogen)\n",
    "print \"Oxygen: {:.2g}\".format(minicell_composition_oxygen)\n",
    "print \"Nitrogen: {:.2g}\".format(minicell_composition_nitrogen)"
   ]
  },
  {
   "cell_type": "code",
   "execution_count": 66,
   "metadata": {
    "collapsed": false
   },
   "outputs": [
    {
     "data": {
      "text/plain": [
       "63800000.0"
      ]
     },
     "execution_count": 66,
     "metadata": {},
     "output_type": "execute_result"
    }
   ],
   "source": [
    "1.8e7+3.2e7+9.2e6+4.6e6"
   ]
  },
  {
   "cell_type": "code",
   "execution_count": 64,
   "metadata": {
    "collapsed": false
   },
   "outputs": [
    {
     "data": {
      "text/html": [
       "<div>\n",
       "<table border=\"1\" class=\"dataframe\">\n",
       "  <thead>\n",
       "    <tr style=\"text-align: right;\">\n",
       "      <th></th>\n",
       "      <th>Attribute</th>\n",
       "      <th>Low</th>\n",
       "      <th>Best</th>\n",
       "      <th>High</th>\n",
       "      <th>Unit</th>\n",
       "      <th>Notes</th>\n",
       "    </tr>\n",
       "  </thead>\n",
       "  <tbody>\n",
       "    <tr>\n",
       "      <th>0</th>\n",
       "      <td>Diameter</td>\n",
       "      <td>0.100000</td>\n",
       "      <td>4.200000e-01</td>\n",
       "      <td>8.000000e-01</td>\n",
       "      <td>µm</td>\n",
       "      <td></td>\n",
       "    </tr>\n",
       "    <tr>\n",
       "      <th>1</th>\n",
       "      <td>Volume</td>\n",
       "      <td>0.000524</td>\n",
       "      <td>3.879239e-02</td>\n",
       "      <td>2.680826e-01</td>\n",
       "      <td>µm^3</td>\n",
       "      <td></td>\n",
       "    </tr>\n",
       "    <tr>\n",
       "      <th>2</th>\n",
       "      <td>Surface Area</td>\n",
       "      <td>0.031416</td>\n",
       "      <td>5.541769e-01</td>\n",
       "      <td>2.010619e+00</td>\n",
       "      <td>µm^2</td>\n",
       "      <td></td>\n",
       "    </tr>\n",
       "    <tr>\n",
       "      <th>3</th>\n",
       "      <td>Total Atoms</td>\n",
       "      <td>0.000000</td>\n",
       "      <td>6.469744e+07</td>\n",
       "      <td>4.083429e+10</td>\n",
       "      <td></td>\n",
       "      <td>Excluding water, based on 70% water by volume.</td>\n",
       "    </tr>\n",
       "  </tbody>\n",
       "</table>\n",
       "</div>"
      ],
      "text/plain": [
       "      Attribute       Low          Best          High  Unit  \\\n",
       "0      Diameter  0.100000  4.200000e-01  8.000000e-01    µm   \n",
       "1        Volume  0.000524  3.879239e-02  2.680826e-01  µm^3   \n",
       "2  Surface Area  0.031416  5.541769e-01  2.010619e+00  µm^2   \n",
       "3   Total Atoms  0.000000  6.469744e+07  4.083429e+10         \n",
       "\n",
       "                                            Notes  \n",
       "0                                                  \n",
       "1                                                  \n",
       "2                                                  \n",
       "3  Excluding water, based on 70% water by volume.  "
      ]
     },
     "execution_count": 64,
     "metadata": {},
     "output_type": "execute_result"
    }
   ],
   "source": [
    "table.append(pd.Series(['Total Atoms', 0, ecoli_composition_atoms, covalent, '', 'Excluding water, based on 70% water by volume.'], index=table.columns), ignore_index=True)\n",
    "table.append(pd.Series(['Carbon', 0, ecoli_composition_atoms, covalent, '', 'Excluding water, based on 70% water by volume.'], index=table.columns), ignore_index=True)"
   ]
  },
  {
   "cell_type": "markdown",
   "metadata": {
    "slideshow": {
     "slide_type": "subslide"
    }
   },
   "source": [
    "### Summary\n",
    "* Van der Waals atoms: 2.4e+09\n",
    "* Covalent atoms: 4.1e+10\n",
    "* Composition atoms: 1.7e+08\n",
    " * Carbon: 4.8e+07\n",
    " * Hydrogen: 8.3e+07\n",
    " * Oxygen: 2.4e+07\n",
    " * Nitrogen: 1.2e+07"
   ]
  },
  {
   "cell_type": "markdown",
   "metadata": {
    "slideshow": {
     "slide_type": "slide"
    }
   },
   "source": [
    "# Central Dogma\n",
    "## DNA"
   ]
  },
  {
   "cell_type": "markdown",
   "metadata": {},
   "source": [
    "DNA: PO4 + C5H8O2 + N5C5O1H6 = P1N5O7C10H14"
   ]
  },
  {
   "cell_type": "code",
   "execution_count": 220,
   "metadata": {
    "collapsed": false,
    "slideshow": {
     "slide_type": "subslide"
    }
   },
   "outputs": [
    {
     "name": "stdout",
     "output_type": "stream",
     "text": [
      "Max DNA (Covalent model): 2.7e+09 nt (2,734,860,981)\n",
      "Max DNA (Covalent; wet): 8.2e+08 nt (820,458,294)\n"
     ]
    }
   ],
   "source": [
    "dna_covalent = (minicell_vol) / (\n",
    "    vol(phosphorus_covalent) +\n",
    "    vol(carbon_covalent) * 10 + \n",
    "    vol(hydrogen_covalent) * 14 + \n",
    "    vol(oxygen_covalent) * 7 + \n",
    "    vol(nitrogen_covalent) * 5)\n",
    "print \"Max DNA (Covalent model): {:.2g} nt ({:,.0f})\".format(dna_covalent, dna_covalent)\n",
    "print \"Max DNA (Covalent; wet): {:.2g} nt ({:,.0f})\".format(dna_covalent * 0.3, dna_covalent * 0.3)"
   ]
  },
  {
   "cell_type": "markdown",
   "metadata": {
    "slideshow": {
     "slide_type": "subslide"
    }
   },
   "source": [
    "* DNA volume 'rule of thumb': 1 nm^3 / base (Physical Biology of the Cell; BNID 103778)"
   ]
  },
  {
   "cell_type": "code",
   "execution_count": 116,
   "metadata": {
    "collapsed": false
   },
   "outputs": [
    {
     "name": "stdout",
     "output_type": "stream",
     "text": [
      "Max DNA (Rule of Thumb): 1e+08 nt\n"
     ]
    }
   ],
   "source": [
    "dna_vol_per_base = 1e-9 # µm^3 / base\n",
    "print \"Max DNA (Rule of Thumb): {:.2g} nt\".format(minicell_vol / dna_vol_per_base)"
   ]
  },
  {
   "cell_type": "markdown",
   "metadata": {
    "slideshow": {
     "slide_type": "subslide"
    }
   },
   "source": [
    "DNA in *E. coli* makes up 3.1% dry weight of the cell (Neidhardt 1996). If we assume a similar range for our cell, say 1–10%, we get 1e5 to 1e6 nt: 1 to 10 megabases."
   ]
  },
  {
   "cell_type": "code",
   "execution_count": 218,
   "metadata": {
    "collapsed": false
   },
   "outputs": [
    {
     "name": "stdout",
     "output_type": "stream",
     "text": [
      "Likely DNA range: 149,677–1,496,774 nt\n"
     ]
    }
   ],
   "source": [
    "ecoli_genome_size = 4.64 * c.mega\n",
    "minicell_dna_range = ecoli_genome_size / 10 / 3.1\n",
    "print \"Likely DNA range: {:,.0f}–{:,.0f} nt\".format(minicell_dna_range, minicell_dna_range * 10)"
   ]
  },
  {
   "cell_type": "markdown",
   "metadata": {},
   "source": [
    "### Phage Calculations"
   ]
  },
  {
   "cell_type": "code",
   "execution_count": 5,
   "metadata": {
    "collapsed": false
   },
   "outputs": [
    {
     "data": {
      "text/plain": [
       "<matplotlib.axes._subplots.AxesSubplot at 0x108e5ded0>"
      ]
     },
     "execution_count": 5,
     "metadata": {},
     "output_type": "execute_result"
    },
    {
     "name": "stderr",
     "output_type": "stream",
     "text": [
      "/Users/anton/anaconda/lib/python2.7/site-packages/matplotlib/collections.py:590: FutureWarning: elementwise comparison failed; returning scalar instead, but in the future will perform elementwise comparison\n",
      "  if self._edgecolors == str('face'):\n"
     ]
    },
    {
     "data": {
      "image/png": "[encoded data removed]",
      "text/plain": [
       "<matplotlib.figure.Figure at 0x10452b190>"
      ]
     },
     "metadata": {},
     "output_type": "display_data"
    }
   ],
   "source": [
    "# Based on Jover, Effler, Buchan, Wilhelm and Weitz, The elemental composition of virus particles (1014) Nat Rev Microbiol.\n",
    "\n",
    "phage_sizes = pd.read_csv(\"Reference/Jover2014PhageSizes.csv\")\n",
    "#  (x='Genome Size (kbp)', y='Ext Diameter (nm)', hue='Phage', data=phage_sizes)\n",
    "# phage_sizes.plot.scatter(x='Ext Diameter (nm)', y='Genome Size (kbp)', c='Phage')\n",
    "sns.swarmplot(x='Ext Diameter (nm)', y='Genome Size (kbp)', data=phage_sizes)"
   ]
  },
  {
   "cell_type": "code",
   "execution_count": 14,
   "metadata": {
    "collapsed": false
   },
   "outputs": [
    {
     "data": {
      "text/html": [
       "<div>\n",
       "<table border=\"1\" class=\"dataframe\">\n",
       "  <thead>\n",
       "    <tr style=\"text-align: right;\">\n",
       "      <th></th>\n",
       "      <th>Phage</th>\n",
       "      <th>Genome Size (kbp)</th>\n",
       "      <th>Ext Diameter (nm)</th>\n",
       "      <th>Size ref</th>\n",
       "      <th>Dia ref</th>\n",
       "      <th>Volume</th>\n",
       "    </tr>\n",
       "  </thead>\n",
       "  <tbody>\n",
       "    <tr>\n",
       "      <th>0</th>\n",
       "      <td>Lamda</td>\n",
       "      <td>49</td>\n",
       "      <td>63</td>\n",
       "      <td>NaN</td>\n",
       "      <td>NaN</td>\n",
       "      <td>0.000131</td>\n",
       "    </tr>\n",
       "    <tr>\n",
       "      <th>1</th>\n",
       "      <td>Mu</td>\n",
       "      <td>39</td>\n",
       "      <td>54</td>\n",
       "      <td>NaN</td>\n",
       "      <td>NaN</td>\n",
       "      <td>0.000082</td>\n",
       "    </tr>\n",
       "    <tr>\n",
       "      <th>2</th>\n",
       "      <td>P1</td>\n",
       "      <td>100</td>\n",
       "      <td>85</td>\n",
       "      <td>NaN</td>\n",
       "      <td>NaN</td>\n",
       "      <td>0.000322</td>\n",
       "    </tr>\n",
       "    <tr>\n",
       "      <th>3</th>\n",
       "      <td>P2</td>\n",
       "      <td>34</td>\n",
       "      <td>60</td>\n",
       "      <td>NaN</td>\n",
       "      <td>NaN</td>\n",
       "      <td>0.000113</td>\n",
       "    </tr>\n",
       "    <tr>\n",
       "      <th>4</th>\n",
       "      <td>P4</td>\n",
       "      <td>12</td>\n",
       "      <td>45</td>\n",
       "      <td>NaN</td>\n",
       "      <td>NaN</td>\n",
       "      <td>0.000048</td>\n",
       "    </tr>\n",
       "    <tr>\n",
       "      <th>5</th>\n",
       "      <td>Phi80</td>\n",
       "      <td>45</td>\n",
       "      <td>61</td>\n",
       "      <td>NaN</td>\n",
       "      <td>NaN</td>\n",
       "      <td>0.000119</td>\n",
       "    </tr>\n",
       "    <tr>\n",
       "      <th>6</th>\n",
       "      <td>PhiX174</td>\n",
       "      <td>5</td>\n",
       "      <td>26</td>\n",
       "      <td>NaN</td>\n",
       "      <td>NaN</td>\n",
       "      <td>0.000009</td>\n",
       "    </tr>\n",
       "    <tr>\n",
       "      <th>7</th>\n",
       "      <td>T3</td>\n",
       "      <td>38</td>\n",
       "      <td>60</td>\n",
       "      <td>NaN</td>\n",
       "      <td>NaN</td>\n",
       "      <td>0.000113</td>\n",
       "    </tr>\n",
       "    <tr>\n",
       "      <th>8</th>\n",
       "      <td>T5</td>\n",
       "      <td>121</td>\n",
       "      <td>90</td>\n",
       "      <td>NaN</td>\n",
       "      <td>NaN</td>\n",
       "      <td>0.000382</td>\n",
       "    </tr>\n",
       "    <tr>\n",
       "      <th>9</th>\n",
       "      <td>T7</td>\n",
       "      <td>40</td>\n",
       "      <td>61</td>\n",
       "      <td>NaN</td>\n",
       "      <td>NaN</td>\n",
       "      <td>0.000119</td>\n",
       "    </tr>\n",
       "    <tr>\n",
       "      <th>10</th>\n",
       "      <td>HTVC011P</td>\n",
       "      <td>40</td>\n",
       "      <td>55</td>\n",
       "      <td>NaN</td>\n",
       "      <td>NaN</td>\n",
       "      <td>0.000087</td>\n",
       "    </tr>\n",
       "    <tr>\n",
       "      <th>11</th>\n",
       "      <td>HTVC019P</td>\n",
       "      <td>42</td>\n",
       "      <td>55</td>\n",
       "      <td>NaN</td>\n",
       "      <td>NaN</td>\n",
       "      <td>0.000087</td>\n",
       "    </tr>\n",
       "    <tr>\n",
       "      <th>12</th>\n",
       "      <td>HTVC010P</td>\n",
       "      <td>35</td>\n",
       "      <td>50</td>\n",
       "      <td>NaN</td>\n",
       "      <td>NaN</td>\n",
       "      <td>0.000065</td>\n",
       "    </tr>\n",
       "    <tr>\n",
       "      <th>13</th>\n",
       "      <td>HTVC008M</td>\n",
       "      <td>147</td>\n",
       "      <td>84</td>\n",
       "      <td>NaN</td>\n",
       "      <td>NaN</td>\n",
       "      <td>0.000310</td>\n",
       "    </tr>\n",
       "    <tr>\n",
       "      <th>14</th>\n",
       "      <td>N4</td>\n",
       "      <td>71</td>\n",
       "      <td>70</td>\n",
       "      <td>NaN</td>\n",
       "      <td>NaN</td>\n",
       "      <td>0.000180</td>\n",
       "    </tr>\n",
       "    <tr>\n",
       "      <th>15</th>\n",
       "      <td>Syn5</td>\n",
       "      <td>46</td>\n",
       "      <td>60</td>\n",
       "      <td>NaN</td>\n",
       "      <td>NaN</td>\n",
       "      <td>0.000113</td>\n",
       "    </tr>\n",
       "    <tr>\n",
       "      <th>16</th>\n",
       "      <td>SPP1</td>\n",
       "      <td>44</td>\n",
       "      <td>60</td>\n",
       "      <td>NaN</td>\n",
       "      <td>NaN</td>\n",
       "      <td>0.000113</td>\n",
       "    </tr>\n",
       "    <tr>\n",
       "      <th>17</th>\n",
       "      <td>SPO1</td>\n",
       "      <td>146</td>\n",
       "      <td>87</td>\n",
       "      <td>NaN</td>\n",
       "      <td>NaN</td>\n",
       "      <td>0.000345</td>\n",
       "    </tr>\n",
       "    <tr>\n",
       "      <th>18</th>\n",
       "      <td>HK97</td>\n",
       "      <td>40</td>\n",
       "      <td>66</td>\n",
       "      <td>NaN</td>\n",
       "      <td>NaN</td>\n",
       "      <td>0.000151</td>\n",
       "    </tr>\n",
       "    <tr>\n",
       "      <th>19</th>\n",
       "      <td>P22</td>\n",
       "      <td>42</td>\n",
       "      <td>61</td>\n",
       "      <td>NaN</td>\n",
       "      <td>NaN</td>\n",
       "      <td>0.000119</td>\n",
       "    </tr>\n",
       "  </tbody>\n",
       "</table>\n",
       "</div>"
      ],
      "text/plain": [
       "       Phage  Genome Size (kbp)  Ext Diameter (nm)  Size ref  Dia ref  \\\n",
       "0      Lamda                 49                 63       NaN      NaN   \n",
       "1         Mu                 39                 54       NaN      NaN   \n",
       "2         P1                100                 85       NaN      NaN   \n",
       "3         P2                 34                 60       NaN      NaN   \n",
       "4         P4                 12                 45       NaN      NaN   \n",
       "5      Phi80                 45                 61       NaN      NaN   \n",
       "6    PhiX174                  5                 26       NaN      NaN   \n",
       "7         T3                 38                 60       NaN      NaN   \n",
       "8         T5                121                 90       NaN      NaN   \n",
       "9         T7                 40                 61       NaN      NaN   \n",
       "10  HTVC011P                 40                 55       NaN      NaN   \n",
       "11  HTVC019P                 42                 55       NaN      NaN   \n",
       "12  HTVC010P                 35                 50       NaN      NaN   \n",
       "13  HTVC008M                147                 84       NaN      NaN   \n",
       "14        N4                 71                 70       NaN      NaN   \n",
       "15      Syn5                 46                 60       NaN      NaN   \n",
       "16      SPP1                 44                 60       NaN      NaN   \n",
       "17      SPO1                146                 87       NaN      NaN   \n",
       "18      HK97                 40                 66       NaN      NaN   \n",
       "19       P22                 42                 61       NaN      NaN   \n",
       "\n",
       "      Volume  \n",
       "0   0.000131  \n",
       "1   0.000082  \n",
       "2   0.000322  \n",
       "3   0.000113  \n",
       "4   0.000048  \n",
       "5   0.000119  \n",
       "6   0.000009  \n",
       "7   0.000113  \n",
       "8   0.000382  \n",
       "9   0.000119  \n",
       "10  0.000087  \n",
       "11  0.000087  \n",
       "12  0.000065  \n",
       "13  0.000310  \n",
       "14  0.000180  \n",
       "15  0.000113  \n",
       "16  0.000113  \n",
       "17  0.000345  \n",
       "18  0.000151  \n",
       "19  0.000119  "
      ]
     },
     "execution_count": 14,
     "metadata": {},
     "output_type": "execute_result"
    }
   ],
   "source": [
    "phage_sizes"
   ]
  },
  {
   "cell_type": "code",
   "execution_count": 13,
   "metadata": {
    "collapsed": false
   },
   "outputs": [
    {
     "data": {
      "text/plain": [
       "<matplotlib.axes._subplots.AxesSubplot at 0x10952bc10>"
      ]
     },
     "execution_count": 13,
     "metadata": {},
     "output_type": "execute_result"
    },
    {
     "data": {
      "image/png": "[encoded data removed]",
      "text/plain": [
       "<matplotlib.figure.Figure at 0x106a5c150>"
      ]
     },
     "metadata": {},
     "output_type": "display_data"
    }
   ],
   "source": [
    "phage_sizes['Volume'] = 4./3. * np.pi * (phage_sizes['Ext Diameter (nm)'] / 2 / 1000)**3 # µm^3\n",
    "sns.swarmplot(x='Volume', y='Genome Size (kbp)', data=phage_sizes)"
   ]
  },
  {
   "cell_type": "code",
   "execution_count": 216,
   "metadata": {
    "collapsed": false
   },
   "outputs": [
    {
     "name": "stdout",
     "output_type": "stream",
     "text": [
      "DNA per µm^3: 3.9e+08\n",
      "Max DNA in Minicell: 39,026,639 bases\n"
     ]
    }
   ],
   "source": [
    "phage_dna_per_um = (phage_sizes['Genome Size (kbp)'] * 1000 / phage_sizes['Volume']).mean()\n",
    "print \"DNA per µm^3: {:.2g}\".format(phage_dna_per_um)\n",
    "print \"Max DNA in Minicell: {:,.0f} bases\".format(phage_dna_per_um * minicell_vol)"
   ]
  },
  {
   "cell_type": "markdown",
   "metadata": {
    "slideshow": {
     "slide_type": "subslide"
    }
   },
   "source": [
    "### Plasmid Segregation\n",
    "* Measured at ~40% using image analysis\n",
    "* Need to bulk out data set\n",
    "* Get complementary measurement with FACS"
   ]
  },
  {
   "cell_type": "markdown",
   "metadata": {
    "slideshow": {
     "slide_type": "slide"
    }
   },
   "source": [
    "## RNAP"
   ]
  },
  {
   "cell_type": "markdown",
   "metadata": {
    "slideshow": {
     "slide_type": "subslide"
    }
   },
   "source": [
    "### *E. coli*\n",
    "* 1500–11400 per cell (*Bremer and Dennis* 1996; BNID 101440)"
   ]
  },
  {
   "cell_type": "markdown",
   "metadata": {
    "slideshow": {
     "slide_type": "subslide"
    }
   },
   "source": [
    "### Minicells\n",
    "* Levels extremely low (*Hurwitz and Gold* 1968)\n",
    "* Conjugated DNA is not transcribed *Fralick* (1968, 1970)\n",
    "* But: plasmid-containing cells have RNAP—transported by the plasmid."
   ]
  },
  {
   "cell_type": "markdown",
   "metadata": {
    "slideshow": {
     "slide_type": "fragment"
    }
   },
   "source": [
    "* Plasmid-free minicells had 17% of the RNAP beta subunits per total protein (*Shepherd et al* 2001).\n",
    "* Plasmid-carrying minicells had 20-22% RNAP (*Shepherd*).\n",
    "* Accords with *Bakshi et al* 2013: 82% of RNAP is bound to DNA specifically or non-specifically.\n",
    "* *Frazer* reported that the beta subunits alone did not work without plasmid."
   ]
  },
  {
   "cell_type": "code",
   "execution_count": 125,
   "metadata": {
    "collapsed": false,
    "slideshow": {
     "slide_type": "subslide"
    }
   },
   "outputs": [
    {
     "name": "stdout",
     "output_type": "stream",
     "text": [
      "RNAP without plasmid: 255–1938\n",
      "RNAP without plasmid: 330–2508\n"
     ]
    }
   ],
   "source": [
    "print \"RNAP without plasmid: {:g}–{:g}\".format(*(0.17 * np.array([1500, 11400])))\n",
    "print \"RNAP without plasmid: {:g}–{:g}\".format(*(0.22 * np.array([1500, 11400])))"
   ]
  },
  {
   "cell_type": "markdown",
   "metadata": {},
   "source": [
    "Overall 250-2500."
   ]
  },
  {
   "cell_type": "markdown",
   "metadata": {
    "slideshow": {
     "slide_type": "subslide"
    }
   },
   "source": [
    "Could we build a plasmid that preferentially transported DNA-associated molecules into the minicells?"
   ]
  },
  {
   "cell_type": "markdown",
   "metadata": {},
   "source": [
    "### RNA Nucleotides\n",
    "3.7 x 10^7 to 39 x 10^7 nt / cell per *Bremer and Dennis*. This gives us 3.7 x 10^6 to 3.9 x 10^7 nucleotides, assuming we don't lose to many to asymmetric segregation as they're retained by genome-associated RNAP with nascent transcripts.\n",
    "\n",
    "Average transcript length in *E. coli*: 1000 nt (Jones et al 2007; BNID 100022). This gives 3700 to 39000 transcripts max per cell, if we don't use RNA for anything else.\n",
    "\n",
    "*E. coli* has 1380/cell (with 40 min doubling) (Ingraham 1983; 106153). Based on this ratio we could perhaps expect 10x less: ~100."
   ]
  },
  {
   "cell_type": "markdown",
   "metadata": {},
   "source": [
    "Organism, mRNA/cell, BNID\n",
    "S.cerevisiae, 26000-60000, 103023\n"
   ]
  },
  {
   "cell_type": "markdown",
   "metadata": {},
   "source": [
    "## Ribosomes\n",
    "\n",
    "In *E. coli* 6800 to 72000 (*Bremer and Dennis* 1996)"
   ]
  },
  {
   "cell_type": "code",
   "execution_count": 68,
   "metadata": {
    "collapsed": false
   },
   "outputs": [
    {
     "data": {
      "text/plain": [
       "array([ 680, 7200])"
      ]
     },
     "execution_count": 68,
     "metadata": {},
     "output_type": "execute_result"
    }
   ],
   "source": [
    "np.array([6800, 72000]) / 10"
   ]
  },
  {
   "cell_type": "markdown",
   "metadata": {
    "slideshow": {
     "slide_type": "slide"
    }
   },
   "source": [
    "# Amino Acids"
   ]
  },
  {
   "cell_type": "markdown",
   "metadata": {},
   "source": [
    "5.6e8 to 25e8 amino acids per cell (*Bremer and Dennis* 1996). We get that / 10. With mean transcript length of 1000 nt we have ~333 amino acids, so"
   ]
  },
  {
   "cell_type": "code",
   "execution_count": 76,
   "metadata": {
    "collapsed": false
   },
   "outputs": [
    {
     "data": {
      "text/plain": [
       "array([ 186666.66666667,  833333.33333333])"
      ]
     },
     "execution_count": 76,
     "metadata": {},
     "output_type": "execute_result"
    }
   ],
   "source": [
    "np.array([5.6e7, 25e7]) / 300."
   ]
  },
  {
   "cell_type": "code",
   "execution_count": 69,
   "metadata": {
    "collapsed": false,
    "slideshow": {
     "slide_type": "skip"
    }
   },
   "outputs": [],
   "source": [
    "ecoli_aas = pd.DataFrame({\n",
    "    \"Name\":['Ala', 'Arg', 'Asn', 'Asp', 'Cys', 'Glu', 'Gln', 'Gly',\n",
    "           'His','Ile','Leu','Lys','Met','Phe','Pro','Ser','Thr',\n",
    "           'Trp','Tyr','Val'], \n",
    "    \"Number\": np.array([\n",
    "            9.3e7,\n",
    "            5.3e7,\n",
    "            4.4e7,\n",
    "            4.4e7,\n",
    "            1.7e7,\n",
    "            4.8e7,\n",
    "            4.8e7,\n",
    "            1.1e8,\n",
    "            1.7e7,\n",
    "            5.2e7, 8.1e7, 6.2e7,\n",
    "            2.8e7,\n",
    "            3.2e7,\n",
    "            4.0e7, 3.9e7,\n",
    "            4.6e7, 1.0e7, 2.5e7, 7.6e7\n",
    "        ])})\n",
    "\n",
    "minicell_aas = ecoli_aas.copy()\n",
    "minicell_aas.loc[:,'Number'] = minicell_aas['Number'] / 10"
   ]
  },
  {
   "cell_type": "code",
   "execution_count": 71,
   "metadata": {
    "collapsed": false
   },
   "outputs": [
    {
     "data": {
      "text/plain": [
       "965000000.0"
      ]
     },
     "execution_count": 71,
     "metadata": {},
     "output_type": "execute_result"
    }
   ],
   "source": [
    "ecoli_aas['Number'].sum()"
   ]
  },
  {
   "cell_type": "code",
   "execution_count": 158,
   "metadata": {
    "collapsed": false
   },
   "outputs": [
    {
     "data": {
      "text/plain": [
       "<matplotlib.axes._subplots.AxesSubplot at 0x10a93a410>"
      ]
     },
     "execution_count": 158,
     "metadata": {},
     "output_type": "execute_result"
    },
    {
     "data": {
      "image/png": "[encoded data removed]",
      "text/plain": [
       "<matplotlib.figure.Figure at 0x10bbd2fd0>"
      ]
     },
     "metadata": {},
     "output_type": "display_data"
    }
   ],
   "source": [
    "sns.stripplot(x=\"Name\", y=\"Number\", data=minicell_aas)"
   ]
  },
  {
   "cell_type": "markdown",
   "metadata": {},
   "source": [
    "*Kaleta et al* 2013; BNID 110093"
   ]
  },
  {
   "cell_type": "code",
   "execution_count": null,
   "metadata": {
    "collapsed": true
   },
   "outputs": [],
   "source": [
    "ecoli_mean_protein_length = 325 # amino acids; Dill et al, BNID 108986\n"
   ]
  },
  {
   "cell_type": "markdown",
   "metadata": {
    "slideshow": {
     "slide_type": "slide"
    }
   },
   "source": [
    "# Energy"
   ]
  },
  {
   "cell_type": "markdown",
   "metadata": {
    "slideshow": {
     "slide_type": "subslide"
    }
   },
   "source": [
    "* Minicells at 37ºC showed a decrease in respiration to 50% over two days.\n",
    "* At 4ºC 10% drop over 7 days.\n",
    "* Ribonuclease activity dropped to 54-58% after 8 h.\n",
    "* Kool (1984) reported 80% drop in capacity to synthesize RNA and protein after 2 days at 2ºC.\n",
    "\n",
    "(*Frazer and Curtiss* 1975)"
   ]
  },
  {
   "cell_type": "markdown",
   "metadata": {
    "slideshow": {
     "slide_type": "slide"
    }
   },
   "source": [
    "# Next Steps\n",
    "* Tie in to pathway requirements\n",
    "* Map specific proteins / molecules to our estimates\n",
    "* What's most useful?"
   ]
  },
  {
   "cell_type": "markdown",
   "metadata": {
    "slideshow": {
     "slide_type": "skip"
    }
   },
   "source": [
    "# Current Topics...\n",
    "\n",
    "## Size\n",
    "* Average dimensions are 0.7 µm diameter versus 2.8x0.83 for cells.\n",
    "* Surface to volume ratio 1.5 that of cells.\n",
    "\n",
    "## Energy\n",
    "* Minicells at 37ºC showed a decrease in respiration to 50% over two days.\n",
    "* At 4ºC 10% drop over 7 days.\n",
    "* Ribonuclease activity dropped to 54-58% after 8 h.\n",
    "* Kool (1984) reported 80% drop in capacity to synthesize RNA and protein after 2 days at 2ºC.\n",
    "\n",
    "## Macromolecules\n",
    "* RNA:\n",
    " * 0.36 mg/mg protein *Adler 1967*\n",
    " * 52 mg/g wet weight *Michaels and Tchen 1968*\n",
    " * 0.43 mg/mg protein *Black 1967*; *Silverman 1967*\n",
    "* RNAP:\n",
    " * Levels extremely low (*Hurwitz and Gold* 1968)\n",
    " * Conjugated DNA is not transcribed *Fralick* (1968, 1970)\n",
    " * But: plasmid-containing cells have RNAP—transported by the plasmid."
   ]
  },
  {
   "cell_type": "markdown",
   "metadata": {},
   "source": [
    "# Table"
   ]
  },
  {
   "cell_type": "markdown",
   "metadata": {},
   "source": []
  }
 ],
 "metadata": {
  "celltoolbar": "Slideshow",
  "kernelspec": {
   "display_name": "Python 2",
   "language": "python",
   "name": "python2"
  },
  "language_info": {
   "codemirror_mode": {
    "name": "ipython",
    "version": 2
   },
   "file_extension": ".py",
   "mimetype": "text/x-python",
   "name": "python",
   "nbconvert_exporter": "python",
   "pygments_lexer": "ipython2",
   "version": "2.7.12"
  }
 },
 "nbformat": 4,
 "nbformat_minor": 0
}
